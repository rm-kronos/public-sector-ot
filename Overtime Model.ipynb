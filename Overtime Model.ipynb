{
 "cells": [
  {
   "cell_type": "markdown",
   "metadata": {},
   "source": [
    "https://www.nbinteract.com/index.html"
   ]
  },
  {
   "cell_type": "code",
   "execution_count": 56,
   "metadata": {},
   "outputs": [],
   "source": [
    "import numpy as np\n",
    "from scipy.stats import nbinom\n",
    "from scipy.stats import binom\n",
    "import matplotlib.pyplot as plt\n",
    "import nbinteract as nbi\n",
    "from ipywidgets import interact"
   ]
  },
  {
   "cell_type": "code",
   "execution_count": 62,
   "metadata": {},
   "outputs": [],
   "source": [
    "def nbinom_pmf(k, Staff_Needed, Probability):\n",
    "    p = Probability\n",
    "    n = Staff_Needed\n",
    "    return nbinom.pmf(k, n, p)\n",
    "\n",
    "def nbinom_cdf(k, Staff_Needed, Probability):\n",
    "    p=Probability\n",
    "    n = Staff_Needed\n",
    "    return nbinom.cdf(k, n, p)"
   ]
  },
  {
   "cell_type": "code",
   "execution_count": 68,
   "metadata": {
    "scrolled": true
   },
   "outputs": [
    {
     "data": {
      "application/vnd.jupyter.widget-view+json": {
       "model_id": "2269c9157a014e36a836057d28d7172e",
       "version_major": 2,
       "version_minor": 0
      },
      "text/plain": [
       "VBox(children=(interactive(children=(IntSlider(value=100, description='Staff_Needed', max=120, min=80), FloatS…"
      ]
     },
     "metadata": {},
     "output_type": "display_data"
    }
   ],
   "source": [
    "options = {\n",
    "    'title': 'Probability of employee absences',\n",
    "    'xlabel': 'Number of Absent Employees',\n",
    "    'ylabel': 'Probability of Occurence',\n",
    "    'ylim': (0, 1),\n",
    "}\n",
    "\n",
    "nbi.bar(np.arange(21), nbinom_pmf, options=options,\n",
    "               Staff_Needed=(80, 120), Probability=(0.75, 1.0, 0.01))\n",
    "\n",
    "# Clicking the Show widget button below loads all widgets on the page.\n",
    "# Widgets will automatically load for all subsequent pages until you close\n",
    "# the tab/window."
   ]
  },
  {
   "cell_type": "markdown",
   "metadata": {},
   "source": [
    "### Here's some text\n",
    "Here's an explanation"
   ]
  },
  {
   "cell_type": "code",
   "execution_count": 65,
   "metadata": {
    "scrolled": false
   },
   "outputs": [
    {
     "data": {
      "application/vnd.jupyter.widget-view+json": {
       "model_id": "f1b090c0081247cb9476173561e13269",
       "version_major": 2,
       "version_minor": 0
      },
      "text/plain": [
       "VBox(children=(interactive(children=(IntSlider(value=100, description='Staff_Needed', max=120, min=80), FloatS…"
      ]
     },
     "metadata": {},
     "output_type": "display_data"
    }
   ],
   "source": [
    "options = {\n",
    "    'title': 'Probability of meeting full staffing with X additional staff',\n",
    "    'xlabel': 'X',\n",
    "    'ylabel': 'probability',\n",
    "    'ylim': (0, 1),\n",
    "}\n",
    "\n",
    "nbi.bar(np.arange(21), nbinom_cdf, options=options,\n",
    "               Staff_Needed=(80, 120), Probability=(0.75, 1.0, 0.01))"
   ]
  }
 ],
 "metadata": {
  "kernelspec": {
   "display_name": "Python 3",
   "language": "python",
   "name": "python3"
  },
  "language_info": {
   "codemirror_mode": {
    "name": "ipython",
    "version": 3
   },
   "file_extension": ".py",
   "mimetype": "text/x-python",
   "name": "python",
   "nbconvert_exporter": "python",
   "pygments_lexer": "ipython3",
   "version": "3.7.6"
  }
 },
 "nbformat": 4,
 "nbformat_minor": 4
}
