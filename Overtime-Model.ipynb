{
 "cells": [
  {
   "cell_type": "markdown",
   "metadata": {},
   "source": [
    "https://www.nbinteract.com/index.html"
   ]
  },
  {
   "cell_type": "code",
   "execution_count": 2,
   "metadata": {},
   "outputs": [],
   "source": [
    "import numpy as np\n",
    "from scipy.stats import nbinom\n",
    "from scipy.stats import binom\n",
    "import matplotlib.pyplot as plt\n",
    "import nbinteract as nbi\n",
    "from ipywidgets import interact"
   ]
  },
  {
   "cell_type": "code",
   "execution_count": 3,
   "metadata": {},
   "outputs": [],
   "source": [
    "def nbinom_pmf(k, Staff_Needed, Chance_of_Absence):\n",
    "    p = 1-Chance_of_Absence\n",
    "    n = Staff_Needed\n",
    "    return nbinom.pmf(k, n, p)\n",
    "\n",
    "def nbinom_cdf(k, Staff_Needed, Chance_of_Absence):\n",
    "    p = 1-Chance_of_Absence\n",
    "    n = Staff_Needed\n",
    "    return nbinom.cdf(k, n, p)"
   ]
  },
  {
   "cell_type": "code",
   "execution_count": 6,
   "metadata": {},
   "outputs": [
    {
     "data": {
      "application/vnd.jupyter.widget-view+json": {
       "model_id": "aa3cab32015541b1b21459a23bb96acd",
       "version_major": 2,
       "version_minor": 0
      },
      "text/plain": [
       "VBox(children=(interactive(children=(IntSlider(value=37, description='Staff_Needed', max=50, min=25), FloatSli…"
      ]
     },
     "metadata": {},
     "output_type": "display_data"
    }
   ],
   "source": [
    "options = {\n",
    "    'title': 'How many employees are absent (probability)',\n",
    "    'xlabel': 'Number of Absent Employees',\n",
    "    'ylabel': 'Probability of Occurence',\n",
    "    'ylim': (0, .25),\n",
    "}\n",
    "\n",
    "nbi.bar(np.arange(21), nbinom_pmf, options=options,\n",
    "               Staff_Needed=(25, 50), Chance_of_Absence=(0.0, .25, 0.01))\n",
    "\n",
    "# Clicking the Show widget button below loads all widgets on the page.\n",
    "# Widgets will automatically load for all subsequent pages until you close\n",
    "# the tab/window."
   ]
  },
  {
   "cell_type": "code",
   "execution_count": 7,
   "metadata": {},
   "outputs": [
    {
     "data": {
      "application/vnd.jupyter.widget-view+json": {
       "model_id": "25ef102f75f54ca9a70828d95c53e167",
       "version_major": 2,
       "version_minor": 0
      },
      "text/plain": [
       "VBox(children=(interactive(children=(IntSlider(value=37, description='Staff_Needed', max=50, min=25), FloatSli…"
      ]
     },
     "metadata": {},
     "output_type": "display_data"
    }
   ],
   "source": [
    "options = {\n",
    "    'title': 'Probability of meeting full staffing with X additional staff',\n",
    "    'xlabel': 'X',\n",
    "    'ylabel': 'probability',\n",
    "    'ylim': (0, 1),\n",
    "}\n",
    "\n",
    "nbi.bar(np.arange(21), nbinom_cdf, options=options,\n",
    "               Staff_Needed=(25, 50), Chance_of_Absence=(0.0, .25, 0.01))"
   ]
  }
 ],
 "metadata": {
  "kernelspec": {
   "display_name": "Python 3",
   "language": "python",
   "name": "python3"
  },
  "language_info": {
   "codemirror_mode": {
    "name": "ipython",
    "version": 3
   },
   "file_extension": ".py",
   "mimetype": "text/x-python",
   "name": "python",
   "nbconvert_exporter": "python",
   "pygments_lexer": "ipython3",
   "version": "3.7.6"
  }
 },
 "nbformat": 4,
 "nbformat_minor": 4
}
