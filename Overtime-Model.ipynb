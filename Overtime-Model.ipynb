{
 "cells": [
  {
   "cell_type": "markdown",
   "metadata": {},
   "source": [
    "https://www.nbinteract.com/index.html"
   ]
  },
  {
   "cell_type": "code",
   "execution_count": 1,
   "metadata": {},
   "outputs": [],
   "source": [
    "import numpy as np\n",
    "from scipy.stats import nbinom\n",
    "from scipy.stats import binom\n",
    "import matplotlib.pyplot as plt\n",
    "import nbinteract as nbi\n",
    "from ipywidgets import interact"
   ]
  },
  {
   "cell_type": "code",
   "execution_count": 2,
   "metadata": {},
   "outputs": [],
   "source": [
    "def nbinom_pmf(k, Staff_Needed, Chance_of_Absence):\n",
    "    p = 1-Chance_of_Absence\n",
    "    n = Staff_Needed\n",
    "    return nbinom.pmf(k, n, p)\n",
    "\n",
    "def nbinom_cdf(k, Staff_Needed, Chance_of_Absence):\n",
    "    p = 1-Chance_of_Absence\n",
    "    n = Staff_Needed\n",
    "    return nbinom.cdf(k, n, p)"
   ]
  },
  {
   "cell_type": "code",
   "execution_count": 3,
   "metadata": {},
   "outputs": [
    {
     "data": {
      "application/vnd.jupyter.widget-view+json": {
       "model_id": "edcfd06aafdd4e0782483a4bc1a6cf72",
       "version_major": 2,
       "version_minor": 0
      },
      "text/plain": [
       "VBox(children=(interactive(children=(IntSlider(value=62, description='Staff_Needed', min=25), FloatSlider(valu…"
      ]
     },
     "metadata": {},
     "output_type": "display_data"
    }
   ],
   "source": [
    "options = {\n",
    "    'title': 'How many employees are absent (probability)',\n",
    "    'xlabel': 'Number of Absent Employees',\n",
    "    'ylabel': 'Probability of Occurence',\n",
    "    'ylim': (0, .25),\n",
    "}\n",
    "\n",
    "nbi.bar(np.arange(21), nbinom_pmf, options=options,\n",
    "               Staff_Needed=(25, 100), Chance_of_Absence=(0.0, .25, 0.01))\n",
    "\n",
    "# Clicking the Show widget button below loads all widgets on the page.\n",
    "# Widgets will automatically load for all subsequent pages until you close\n",
    "# the tab/window."
   ]
  },
  {
   "cell_type": "code",
   "execution_count": 4,
   "metadata": {},
   "outputs": [
    {
     "data": {
      "application/vnd.jupyter.widget-view+json": {
       "model_id": "751951dfa52b402e9b2e62b49e1959e2",
       "version_major": 2,
       "version_minor": 0
      },
      "text/plain": [
       "VBox(children=(interactive(children=(IntSlider(value=62, description='Staff_Needed', min=25), FloatSlider(valu…"
      ]
     },
     "metadata": {},
     "output_type": "display_data"
    }
   ],
   "source": [
    "options = {\n",
    "    'title': 'Probability of meeting full staffing with X additional staff',\n",
    "    'xlabel': 'X',\n",
    "    'ylabel': 'probability',\n",
    "    'ylim': (0, 1),\n",
    "}\n",
    "\n",
    "nbi.bar(np.arange(21), nbinom_cdf, options=options,\n",
    "               Staff_Needed=(25, 100), Chance_of_Absence=(0.0, .25, 0.01))"
   ]
  }
 ],
 "metadata": {
  "kernelspec": {
   "display_name": "Python 3",
   "language": "python",
   "name": "python3"
  },
  "language_info": {
   "codemirror_mode": {
    "name": "ipython",
    "version": 3
   },
   "file_extension": ".py",
   "mimetype": "text/x-python",
   "name": "python",
   "nbconvert_exporter": "python",
   "pygments_lexer": "ipython3",
   "version": "3.7.6"
  }
 },
 "nbformat": 4,
 "nbformat_minor": 4
}
